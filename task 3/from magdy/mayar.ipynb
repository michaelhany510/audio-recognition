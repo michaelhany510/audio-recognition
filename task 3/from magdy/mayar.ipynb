{
 "cells": [
  {
   "cell_type": "code",
   "execution_count": 10,
   "metadata": {},
   "outputs": [
    {
     "name": "stdout",
     "output_type": "stream",
     "text": [
      "Start Recording ...\n",
      "Recording Stopped\n",
      "Converting Audio File To Text ...\n",
      "Converted Audio is: \n",
      "open the door\n",
      "Door is Opened!\n"
     ]
    }
   ],
   "source": [
    "import pyaudio\n",
    "import wave\n",
    "import speech_recognition as sr\n",
    "\n",
    "FRAMES_PER_BUFFER = 3200\n",
    "FORMAT            = pyaudio.paInt16 # 16-bit binary string, one bit for sign and rest for number\n",
    "CHANNELS          = 1               # one source (mono)\n",
    "FRAMERATE         = 16000           # no of samples per second\n",
    "p = pyaudio.PyAudio()\n",
    "\n",
    "# starts recording\n",
    "stream = p.open(format=FORMAT, channels=CHANNELS, rate=FRAMERATE, input=True, frames_per_buffer=FRAMES_PER_BUFFER)\n",
    "print(\"Start Recording ...\")\n",
    "frames = []\n",
    "seconds = 5 # total duration of the wav file\n",
    "for i in range(0, int(FRAMERATE / FRAMES_PER_BUFFER * seconds)):\n",
    "    data = stream.read(FRAMES_PER_BUFFER)\n",
    "    frames.append(data)\n",
    "print(\"Recording Stopped\")\n",
    "stream.stop_stream()\n",
    "stream.close()\n",
    "p.terminate()\n",
    "\n",
    "wf = wave.open(\"./files/input/output.wav\", 'wb') # wb stands for write in binary mode\n",
    "wf.setnchannels(CHANNELS)\n",
    "wf.setsampwidth(p.get_sample_size(FORMAT))\n",
    "wf.setframerate(FRAMERATE)\n",
    "wf.writeframes(b''.join(frames))\n",
    "wf.close()\n",
    "\n",
    "r = sr.Recognizer()\n",
    "i = 0\n",
    "with sr.AudioFile(\"./files/input/output.wav\") as source:\n",
    "    r.adjust_for_ambient_noise(source) # listen for 1 second to calibrate the energy threshold for ambient noise levels\n",
    "    print(\"Converting Audio File To Text ...\")\n",
    "    audio = r.record(source)\n",
    "    # audio = r.listen(source)\n",
    "    try:\n",
    "        text = r.recognize_google(audio)\n",
    "        print(f\"Converted Audio is: \\n{text}\")\n",
    "        i=i+1\n",
    "    except Exception as e:\n",
    "        print(e)\n",
    "\n",
    "file_text = open(\"./files/input/text.txt\",\"w\") # creating new file\n",
    "file_text.write(text)                          # writing to text.txt file\n",
    "file_text.close()                              # saving text file\n",
    "\n",
    "if   (text == \"open the door\"  and i == 1):\n",
    "    print(\"Door is Opened!\")\n",
    "elif (text == \"close the door\" and i == 2):\n",
    "    print(\"Door is Closed!\")\n",
    "else: \n",
    "    print(\"Invalid Password. Please Try again ...\")"
   ]
  },
  {
   "cell_type": "code",
   "execution_count": null,
   "metadata": {},
   "outputs": [],
   "source": []
  }
 ],
 "metadata": {
  "kernelspec": {
   "display_name": "Python 3.10.8 64-bit (microsoft store)",
   "language": "python",
   "name": "python3"
  },
  "language_info": {
   "codemirror_mode": {
    "name": "ipython",
    "version": 3
   },
   "file_extension": ".py",
   "mimetype": "text/x-python",
   "name": "python",
   "nbconvert_exporter": "python",
   "pygments_lexer": "ipython3",
   "version": "3.10.8"
  },
  "orig_nbformat": 4,
  "vscode": {
   "interpreter": {
    "hash": "7536d7b229462f4296d4c0dae49c3bd6cd3990c783d6b9d88ce3c31a78605890"
   }
  }
 },
 "nbformat": 4,
 "nbformat_minor": 2
}
